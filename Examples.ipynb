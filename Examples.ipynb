{
 "cells": [
  {
   "cell_type": "markdown",
   "metadata": {},
   "source": [
    "# Demo"
   ]
  },
  {
   "cell_type": "code",
   "execution_count": 1,
   "metadata": {},
   "outputs": [],
   "source": [
    "import numpy as np\n",
    "from activations import *\n",
    "from layers import *\n",
    "from losses import *\n",
    "from optimizers import *\n",
    "from model import *"
   ]
  },
  {
   "cell_type": "markdown",
   "metadata": {},
   "source": [
    "## ANN Example"
   ]
  },
  {
   "cell_type": "code",
   "execution_count": 8,
   "metadata": {},
   "outputs": [
    {
     "name": "stdout",
     "output_type": "stream",
     "text": [
      "Epoch: 0; Cost: 0.9469371833814882\n",
      "Epoch: 10; Cost: 0.6523658858592422\n",
      "Epoch: 20; Cost: 0.568316804654173\n",
      "Epoch: 30; Cost: 0.42484703848843575\n"
     ]
    }
   ],
   "source": [
    "p, obs, hidden, out = 4, 5, 3, 2\n",
    "np.random.seed(1)\n",
    "x = np.random.rand(p, obs)\n",
    "oneHot = np.random.multinomial(1,[1/out for i in range(out)], obs).T\n",
    "labels = np.argmax(oneHot, axis=0)\n",
    "#labels = np.random.binomial(1, 0.75, obs).reshape(1,30)\n",
    "\n",
    "model = neuralNet(softmaxWithXentropy, sgd(learnRate=0.1))\n",
    "model.add(dense((hidden, p), sigmoid))\n",
    "model.add(dropout((hidden, hidden)))\n",
    "model.add(dense((out, hidden), identity))\n",
    "model.fit(x, labels, epochs=31)"
   ]
  },
  {
   "cell_type": "code",
   "execution_count": 10,
   "metadata": {},
   "outputs": [
    {
     "name": "stdout",
     "output_type": "stream",
     "text": [
      "Epoch: 0; Cost: 0.9469371833814882\n",
      "Epoch: 10; Cost: 0.6523658858592422\n",
      "Epoch: 20; Cost: 0.568316804654173\n",
      "Epoch: 30; Cost: 0.42484703848843575\n"
     ]
    }
   ],
   "source": [
    "p, obs, hidden, out = 4, 5, 3, 2\n",
    "np.random.seed(1)\n",
    "x = np.random.rand(p, obs)\n",
    "oneHot = np.random.multinomial(1,[1/out for i in range(out)], obs).T\n",
    "labels = np.argmax(oneHot, axis=0)\n",
    "#labels = np.random.binomial(1, 0.75, obs).reshape(1,30)\n",
    "\n",
    "model = neuralNet(xentropy, sgd(learnRate=0.1))\n",
    "model.add(dense((hidden, p), sigmoid))\n",
    "model.add(dropout((hidden, hidden)))\n",
    "model.add(dense((out, hidden), softmax))\n",
    "model.fit(x, labels, epochs=31)"
   ]
  },
  {
   "cell_type": "markdown",
   "metadata": {},
   "source": [
    "## CNN Example"
   ]
  },
  {
   "cell_type": "code",
   "execution_count": 4,
   "metadata": {},
   "outputs": [
    {
     "name": "stdout",
     "output_type": "stream",
     "text": [
      "Epoch: 0; Cost: 1.3100256957707992\n",
      "Epoch: 10; Cost: 1.0941671311963364\n"
     ]
    }
   ],
   "source": [
    "obs, H, W, channels, out = 10, 28, 28, 3, 3\n",
    "np.random.seed(1)\n",
    "x = np.random.randn(obs, H, W, channels)\n",
    "oneHot = np.random.multinomial(1,[1/out for i in range(out)], obs).T\n",
    "labels = np.argmax(oneHot, axis=0)\n",
    "\n",
    "model = neuralNet(softmaxWithXentropy, sgd(learnRate=0.1, momentum=0.9))\n",
    "model.add(conv2D((28,28,3), 4, 3, 1, 1, 'channels_last'))\n",
    "model.add(batchNorm(((28,28,4),(28,28,4))))\n",
    "model.add(activation(((28,28,4),(28,28,4)), relu))\n",
    "model.add(pooling2D((28,28,4), 2, 2, mode='max'))\n",
    "model.add(conv2D((14,14,4), 8, 3, 1, 1, 'channels_last'))\n",
    "model.add(batchNorm(((14,14,8),(14,14,8))))\n",
    "model.add(activation(((14,14,8),(14,14,8)), relu))\n",
    "model.add(pooling2D((14,14,8), 2, 2, mode='max'))\n",
    "model.add(conv2D((7,7,8), 3, 7, 1, 0, 'channels_last'))\n",
    "model.add(batchNorm(((1,1,3),(1,1,3))))\n",
    "model.add(flatten((3,(1,1,3))))\n",
    "model.fit(x, labels, epochs=11)"
   ]
  },
  {
   "cell_type": "markdown",
   "metadata": {},
   "source": [
    "## RNN Example (M:M)"
   ]
  },
  {
   "cell_type": "code",
   "execution_count": 4,
   "metadata": {},
   "outputs": [
    {
     "name": "stdout",
     "output_type": "stream",
     "text": [
      "Epoch: 0; Cost: 4.41306454641426\n",
      "Epoch: 10; Cost: 4.065282350473246\n",
      "Epoch: 20; Cost: 3.48286550957244\n",
      "Epoch: 30; Cost: 2.7659792652782844\n"
     ]
    }
   ],
   "source": [
    "np.random.seed(1)\n",
    "p, hidden1, hidden2, obs, steps, out = 3, 5, 7, 10, 4, 3\n",
    "X = np.random.randn(p,obs,steps)\n",
    "oneHot = [np.random.multinomial(1,[1/out for i in range(out)], obs).T for t in range(steps)]\n",
    "oneHot = np.stack(oneHot, axis=2)\n",
    "labels = [np.argmax(oneHot[:,:,t], axis=0) for t in range(steps)]\n",
    "labels = np.stack(labels, axis=1)\n",
    "\n",
    "model = neuralNet(softmaxWithXentropy, rmsProp(learnRate=0.01), recurrentLoss=True)\n",
    "model.add(lstm((hidden1,p), steps, returnSeq=True))\n",
    "model.add(lstm((hidden2,hidden1), steps, returnSeq=True))\n",
    "model.add(denseThruTime((out,hidden2), steps=steps, activation=identity))\n",
    "model.fit(X, labels, epochs=31)"
   ]
  },
  {
   "cell_type": "markdown",
   "metadata": {},
   "source": [
    "## RNN Example (M:1)"
   ]
  },
  {
   "cell_type": "code",
   "execution_count": 5,
   "metadata": {},
   "outputs": [
    {
     "name": "stdout",
     "output_type": "stream",
     "text": [
      "Epoch: 0; Cost: 1.0827380944742642\n",
      "Epoch: 10; Cost: 0.6417763307257696\n",
      "Epoch: 20; Cost: 0.32321272495683184\n",
      "Epoch: 30; Cost: 0.21462404347650818\n"
     ]
    }
   ],
   "source": [
    "np.random.seed(1)\n",
    "p, hidden1, hidden2, obs, steps, out = 3, 5, 7, 10, 4, 3\n",
    "X = np.random.randn(p,obs,steps)\n",
    "oneHot = np.random.multinomial(1,[1/out for i in range(out)], obs).T\n",
    "labels = np.argmax(oneHot, axis=0)\n",
    "\n",
    "model = neuralNet(softmaxWithXentropy, rmsProp(learnRate=0.01))\n",
    "model.add(lstm((hidden1,p), steps, returnSeq=True))\n",
    "model.add(lstm((hidden2,hidden1), steps))\n",
    "model.add(dense((out, hidden2), identity))\n",
    "model.fit(X, labels, epochs=31)"
   ]
  },
  {
   "cell_type": "markdown",
   "metadata": {},
   "source": [
    "## RNN Example (Encoder-Decoder)"
   ]
  },
  {
   "cell_type": "code",
   "execution_count": 5,
   "metadata": {},
   "outputs": [
    {
     "name": "stdout",
     "output_type": "stream",
     "text": [
      "Epoch: 0; Cost: 5.50220057580703\n",
      "Epoch: 10; Cost: 3.1687579668521932\n",
      "Epoch: 20; Cost: 1.8497153583184835\n",
      "Epoch: 30; Cost: 1.1859934982056743\n"
     ]
    }
   ],
   "source": [
    "np.random.seed(1)\n",
    "p, h_encode, h_decode, obs, t_encode, t_decode, out = 3, 5, 6, 10, 4, 5, 3\n",
    "X = np.random.randn(p,obs,t_encode)\n",
    "oneHot = [np.random.multinomial(1,[1/out for i in range(out)], obs).T for t in range(t_decode)]\n",
    "oneHot = np.stack(oneHot, axis=2)\n",
    "labels = [np.argmax(oneHot[:,:,t], axis=0) for t in range(t_decode)]\n",
    "labels = np.stack(labels, axis=1)\n",
    "\n",
    "model = neuralNet(softmaxWithXentropy, adam(learnRate=0.1), recurrentLoss=True)\n",
    "model.add(rnn((h_encode,p), t_encode))\n",
    "model.add(repeatVector((h_encode, h_encode), t_decode))\n",
    "model.add(rnn((h_decode,h_encode), t_decode, returnSeq=True))\n",
    "model.add(denseThruTime((out,h_decode), steps=t_decode, activation=identity))\n",
    "model.fit(X, labels, epochs=31)"
   ]
  },
  {
   "cell_type": "code",
   "execution_count": null,
   "metadata": {},
   "outputs": [],
   "source": []
  }
 ],
 "metadata": {
  "kernelspec": {
   "display_name": "Python 3",
   "language": "python",
   "name": "python3"
  },
  "language_info": {
   "codemirror_mode": {
    "name": "ipython",
    "version": 3
   },
   "file_extension": ".py",
   "mimetype": "text/x-python",
   "name": "python",
   "nbconvert_exporter": "python",
   "pygments_lexer": "ipython3",
   "version": "3.6.4"
  }
 },
 "nbformat": 4,
 "nbformat_minor": 2
}
